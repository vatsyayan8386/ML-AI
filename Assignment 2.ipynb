{
 "cells": [
  {
   "cell_type": "markdown",
   "metadata": {},
   "source": [
    "    TASK 1:\n",
    "    \n",
    "Q1.1 Write a Python Program to implement your own myreduce() function which works exactly like Python's built-in function reduce()"
   ]
  },
  {
   "cell_type": "code",
   "execution_count": 1,
   "metadata": {},
   "outputs": [
    {
     "name": "stdout",
     "output_type": "stream",
     "text": [
      "50\n",
      "70\n"
     ]
    }
   ],
   "source": [
    "def sum_nums(a,b):\n",
    "    return a + b\n",
    "\n",
    "def Mul_nums(a,b):\n",
    "    return a * b\n",
    "\n",
    "def myreduce(func,seq):\n",
    "    result = seq[0]\n",
    "    for i in seq[1:]:\n",
    "        result=func(result,i)\n",
    "    return result\n",
    "\n",
    "\n",
    "str = myreduce(sum_nums,[11,1,9,29])\n",
    "print(str)\n",
    "\n",
    "str = myreduce(Mul_nums,[2,1,5,7])\n",
    "print(str)"
   ]
  },
  {
   "cell_type": "markdown",
   "metadata": {},
   "source": [
    "Q1.2 Write a Python program to implement your own myfilter() function which works exactly like Python's built-in function filter()"
   ]
  },
  {
   "cell_type": "code",
   "execution_count": 2,
   "metadata": {},
   "outputs": [
    {
     "name": "stdout",
     "output_type": "stream",
     "text": [
      "[11, 9]\n",
      "[15, 10]\n"
     ]
    }
   ],
   "source": [
    "def Is_odd(a):\n",
    "    if a%2 != 0:\n",
    "        result = True\n",
    "    else:\n",
    "        result = False\n",
    "    return result\n",
    "\n",
    "def div_five(a):\n",
    "    if a%5 == 0:\n",
    "        result = True\n",
    "    else:\n",
    "        result = False\n",
    "    return result\n",
    "\n",
    "\n",
    "def myfilter(func,seq):\n",
    "    lst = []\n",
    "    for i in seq[0:]:\n",
    "        if(func(i)):\n",
    "            lst.append(i)\n",
    "    return lst\n",
    "\n",
    "str = myfilter(Is_odd,[11,10,9,28])\n",
    "print(str) \n",
    "\n",
    "str = myfilter(div_five,[15,10,9,29])\n",
    "print(str) "
   ]
  },
  {
   "cell_type": "markdown",
   "metadata": {},
   "source": [
    "Q2. Implement List comprehensions to produce the following lists.\n",
    "Write List comprehensions to produce the following Lists\n",
    "['A', 'C', 'A', 'D', 'G', 'I', ’L’, ‘ D’]\n",
    "['x', 'xx', 'xxx', 'xxxx', 'y', 'yy', 'yyy', 'yyyy', 'z', 'zz', 'zzz', 'zzzz']\n",
    "['x', 'y', 'z', 'xx', 'yy', 'zz', 'xx', 'yy', 'zz', 'xxxx', 'yyyy', 'zzzz']\n",
    "[[2], [3], [4], [3], [4], [5], [4], [5], [6]]\n",
    "[[2, 3, 4, 5], [3, 4, 5, 6], [4, 5, 6, 7], [5, 6, 7, 8]]\n",
    "[(1, 1), (2, 1), (3, 1), (1, 2), (2, 2), (3, 2), (1, 3), (2, 3), (3, 3)]\n"
   ]
  },
  {
   "cell_type": "code",
   "execution_count": 9,
   "metadata": {},
   "outputs": [
    {
     "name": "stdout",
     "output_type": "stream",
     "text": [
      "['A', 'C', 'A', 'D', 'G', 'I', 'L', 'D']\n",
      "['x', 'xx', 'xxx', 'xxxx', 'y', 'yy', 'yyy', 'yyyy', 'z', 'zz', 'zzz', 'zzzz']\n",
      "['x', 'y', 'z', 'xx', 'yy', 'zz', 'xx', 'yy', 'zz', 'xxx', 'yyy', 'zzz']\n",
      "[[2], [3], [4], [3], [4], [5], [4], [5], [6]]\n",
      "[[2, 3, 4, 5], [3, 4, 5, 6], [4, 5, 6, 7], [5, 6, 7, 8]]\n",
      "[(1, 1), (2, 1), (3, 1), (1, 2), (2, 2), (3, 2), (1, 3), (2, 3), (3, 3)]\n"
     ]
    }
   ],
   "source": [
    "string = 'ACADGILD'\n",
    "lst = []\n",
    "for i in string:\n",
    "    lst.append(i)\n",
    "print(lst)  \n",
    "\n",
    "'''-------------------------'''\n",
    "string = 'xyz'\n",
    "lst = []\n",
    "for i in string:\n",
    "    for j in range(4):\n",
    "        lst.append(i*(j+1))\n",
    "print(lst)\n",
    "\n",
    "'''-------------------------'''\n",
    "string = 'xyz'\n",
    "lst = []\n",
    "for i in range(2):\n",
    "    for j in string:    \n",
    "        lst.append(j*(i+1))\n",
    "lst1 = []\n",
    "for i in range(1,3):\n",
    "    for j in string:    \n",
    "        lst.append(j*(i+1))\n",
    "        \n",
    "print(lst + lst1)\n",
    "\n",
    "'''-------------------------'''\n",
    "num = 2\n",
    "lst = []\n",
    "Main_lst = []\n",
    "for i in range(3):\n",
    "    new_num = num + i\n",
    "    for j in range(3):\n",
    "        new_num1 = new_num + j\n",
    "        lst = [new_num1]\n",
    "        Main_lst.append(lst)\n",
    "print(Main_lst)\n",
    "\n",
    "'''-------------------------'''\n",
    "num = 2\n",
    "Main_lst = []\n",
    "for i in range(4):\n",
    "    lst = []\n",
    "    new_num = num + i\n",
    "    for j in range(4):\n",
    "        new_num1 = new_num + j\n",
    "        lst.append(new_num1)\n",
    "    Main_lst.append(lst)    \n",
    "print(Main_lst)\n",
    "\n",
    "'''-------------------------'''\n",
    "lst = []\n",
    "for i in range(3):\n",
    "    for j in range(0,3):\n",
    "        test = (j+1,i+1)\n",
    "        lst.append(test)\n",
    "print(lst)\n"
   ]
  },
  {
   "cell_type": "markdown",
   "metadata": {},
   "source": [
    "Q3. Implement a function longestWord() that takes a list of words and returns the longest one."
   ]
  },
  {
   "cell_type": "code",
   "execution_count": 11,
   "metadata": {},
   "outputs": [
    {
     "name": "stdout",
     "output_type": "stream",
     "text": [
      "longest word is  UnaHimachal\n"
     ]
    }
   ],
   "source": [
    "def longestWord(lst_words):\n",
    "    lst1 = []\n",
    "    for i in range(len(lst_words)):\n",
    "        test = len(lst_words[i])\n",
    "        lst1.append(test)\n",
    "    b = lst1.index(max(lst1))\n",
    "    c = lst_words[b]\n",
    "    return c\n",
    "\n",
    "New_lst = longestWord(['ABC','UnaHimachal','testtest','Delhi'])\n",
    "print(\"longest word is \", New_lst)"
   ]
  },
  {
   "cell_type": "markdown",
   "metadata": {},
   "source": [
    "     TASK 2:\n",
    "Q1.1 Write a Python Program(with class concepts) to find the area of the triangle using the below\n",
    "formula.\n",
    "area = (s*(s-a)*(s-b)*(s-c)) ** 0.5\n",
    "Function to take the length of the sides of triangle from user should be defined in the parent\n",
    "class and function to calculate the area should be defined in subclass."
   ]
  },
  {
   "cell_type": "code",
   "execution_count": 24,
   "metadata": {},
   "outputs": [
    {
     "data": {
      "text/plain": [
       "103.95"
      ]
     },
     "execution_count": 24,
     "metadata": {},
     "output_type": "execute_result"
    }
   ],
   "source": [
    "class Parent: \n",
    "\n",
    "    def __init__(self,a, b, c): \n",
    "        self.a = a\n",
    "        self.b = b\n",
    "        self.c = c\n",
    "        \n",
    "class Triange(Parent):\n",
    "    \n",
    "    def __init__(self,a,b,c):\n",
    "        super().__init__(a,b,c)\n",
    "        \n",
    "        \n",
    "    def Calc_Area(self):\n",
    "        s=(self.a+self.b+self.c)/2\n",
    "        area= (s*(s-self.a)*(s-self.b)*(s-self.c))*.05\n",
    "        return area\n",
    "t1=Triange(10,12,20)\n",
    "t1.Calc_Area() "
   ]
  },
  {
   "cell_type": "markdown",
   "metadata": {},
   "source": [
    "Q1.2 Write a function filter_long_words() that takes a list of words and an integer n and returns the list\n",
    "of words that are longer than n."
   ]
  },
  {
   "cell_type": "code",
   "execution_count": 25,
   "metadata": {},
   "outputs": [
    {
     "name": "stdout",
     "output_type": "stream",
     "text": [
      "['UnaHimachal', 'testtest']\n"
     ]
    }
   ],
   "source": [
    "def filter_long_words(lst_word,num):\n",
    "    lst = []\n",
    "    for i in range(len(lst_word)):\n",
    "        test = len(lst_word[i])\n",
    "        if test > num:\n",
    "            lst.append(lst_word[i])\n",
    "    return lst\n",
    "\n",
    "New_lst = filter_long_words(['DEABC','UnaHimachal','testtest','Delhi'],5)\n",
    "print(New_lst)"
   ]
  },
  {
   "cell_type": "markdown",
   "metadata": {},
   "source": [
    "Q2.1 Write a Python program using function concept that maps list of words into a list of integers\n",
    "representing the lengths of the corresponding words."
   ]
  },
  {
   "cell_type": "code",
   "execution_count": 14,
   "metadata": {},
   "outputs": [
    {
     "name": "stdout",
     "output_type": "stream",
     "text": [
      "[5, 11, 8, 5]\n"
     ]
    }
   ],
   "source": [
    "def Map_list_words(lst_word,num):\n",
    "    lst = []\n",
    "    for i in range(len(lst_word)):\n",
    "        test = len(lst_word[i])\n",
    "        lst.append(test)\n",
    "    return lst\n",
    "\n",
    "New_Maplst = Map_list_words(['DEABC','UnaHimachal','testtest','Delhi'],5)\n",
    "print(New_Maplst)"
   ]
  },
  {
   "cell_type": "markdown",
   "metadata": {},
   "source": [
    "Q2.2 Write a Python function which takes a character (i.e. a string of length 1) and returns True if it is\n",
    "a vowel, False otherwise."
   ]
  },
  {
   "cell_type": "code",
   "execution_count": 18,
   "metadata": {},
   "outputs": [
    {
     "name": "stdout",
     "output_type": "stream",
     "text": [
      "Enter a single character: o\n",
      "o  is a vowel:  True\n"
     ]
    }
   ],
   "source": [
    "char = input(\"Enter a single character: \")\n",
    "def check_vowel(vowel_lst,str):\n",
    "    for i in range(len(vowel_lst)):\n",
    "        if vowel_lst[i] == str or vowel_lst[i].upper() == str.upper():\n",
    "            result = True\n",
    "            break\n",
    "        else:\n",
    "            result = False\n",
    "            \n",
    "    return result\n",
    "        \n",
    "result = check_vowel(['a','e','i','o','u'],char)\n",
    "print(char, \" is a vowel: \", result)"
   ]
  },
  {
   "cell_type": "code",
   "execution_count": null,
   "metadata": {},
   "outputs": [],
   "source": []
  }
 ],
 "metadata": {
  "kernelspec": {
   "display_name": "Python 3",
   "language": "python",
   "name": "python3"
  },
  "language_info": {
   "codemirror_mode": {
    "name": "ipython",
    "version": 3
   },
   "file_extension": ".py",
   "mimetype": "text/x-python",
   "name": "python",
   "nbconvert_exporter": "python",
   "pygments_lexer": "ipython3",
   "version": "3.7.3"
  }
 },
 "nbformat": 4,
 "nbformat_minor": 2
}
